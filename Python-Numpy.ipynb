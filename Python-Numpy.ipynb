{
  "nbformat": 4,
  "nbformat_minor": 0,
  "metadata": {
    "colab": {
      "name": "Copy of Day_2.ipynb",
      "version": "0.3.2",
      "provenance": [],
      "include_colab_link": true
    },
    "kernelspec": {
      "name": "python3",
      "display_name": "Python 3"
    }
  },
  "cells": [
    {
      "cell_type": "markdown",
      "metadata": {
        "id": "view-in-github",
        "colab_type": "text"
      },
      "source": [
        "<a href=\"https://colab.research.google.com/github/dhamvi01/Python-Numpy/blob/master/Python-Numpy.ipynb\" target=\"_parent\"><img src=\"https://colab.research.google.com/assets/colab-badge.svg\" alt=\"Open In Colab\"/></a>"
      ]
    },
    {
      "cell_type": "markdown",
      "metadata": {
        "id": "wwLfDAx0RWgG",
        "colab_type": "text"
      },
      "source": [
        "\n",
        "\n",
        " **Numpy: Import numpy and prepare an array**\n",
        "\n",
        "\n"
      ]
    },
    {
      "cell_type": "markdown",
      "metadata": {
        "id": "tCOQVK8fcIEu",
        "colab_type": "text"
      },
      "source": [
        "**Create Numpy array**"
      ]
    },
    {
      "cell_type": "code",
      "metadata": {
        "id": "0wedd9tN3tZ5",
        "colab_type": "code",
        "outputId": "d1d7e30b-a69a-445e-ec32-6f4e7a584f08",
        "colab": {
          "base_uri": "https://localhost:8080/",
          "height": 51
        }
      },
      "source": [
        "import numpy as np\n",
        "\n",
        "np.arange(10) + 1\n",
        "\n",
        "np.arange(100)\n",
        "\n",
        "np.random.randn(10)"
      ],
      "execution_count": 0,
      "outputs": [
        {
          "output_type": "execute_result",
          "data": {
            "text/plain": [
              "array([-1.28172514,  0.2428014 , -0.11357723, -0.58358435,  0.65207337,\n",
              "        0.3753053 ,  1.51568411,  1.50363717,  0.60180436,  0.03744701])"
            ]
          },
          "metadata": {
            "tags": []
          },
          "execution_count": 5
        }
      ]
    },
    {
      "cell_type": "markdown",
      "metadata": {
        "id": "tBG5Kgebcek1",
        "colab_type": "text"
      },
      "source": [
        "**1D, 2D and 3D Arrays**"
      ]
    },
    {
      "cell_type": "code",
      "metadata": {
        "id": "fFftTvkn59TU",
        "colab_type": "code",
        "outputId": "779ddf4d-8093-4615-fc1e-530051d80617",
        "colab": {
          "base_uri": "https://localhost:8080/",
          "height": 168
        }
      },
      "source": [
        "import numpy as np\n",
        "\n",
        "a  = np.array([1,2,3,4])\n",
        "b = np.array([(1,2,3),(4,5,6)])\n",
        "c = np.array([[(1,2,3),(4,5,6)],[(7,8,9),(10,11,12)]])\n",
        "\n",
        "a[0]\n",
        "print(b)\n",
        "b[0][0]\n",
        "b[1][:2]\n",
        "\n",
        "print(c)\n",
        "c[0][0][1]\n",
        "\n",
        "b"
      ],
      "execution_count": 0,
      "outputs": [
        {
          "output_type": "stream",
          "text": [
            "[[1 2 3]\n",
            " [4 5 6]]\n",
            "[[[ 1  2  3]\n",
            "  [ 4  5  6]]\n",
            "\n",
            " [[ 7  8  9]\n",
            "  [10 11 12]]]\n"
          ],
          "name": "stdout"
        },
        {
          "output_type": "execute_result",
          "data": {
            "text/plain": [
              "array([[1, 2, 3],\n",
              "       [4, 5, 6]])"
            ]
          },
          "metadata": {
            "tags": []
          },
          "execution_count": 2
        }
      ]
    },
    {
      "cell_type": "markdown",
      "metadata": {
        "id": "Oj52HTpDcdFp",
        "colab_type": "text"
      },
      "source": [
        "**Numpy Data Types**"
      ]
    },
    {
      "cell_type": "code",
      "metadata": {
        "id": "ClZ8AbSq8DGx",
        "colab_type": "code",
        "outputId": "cd763649-9bac-4694-ad15-f6358cc80f88",
        "colab": {
          "base_uri": "https://localhost:8080/",
          "height": 34
        }
      },
      "source": [
        "a = np.array([1,2,3.3])\n",
        "a.dtype\n",
        "b = a.astype(int)\n",
        "b\n",
        "b.dtype\n",
        "\n",
        "a = np.array([1,2,3.3],dtype='int')\n",
        "a.dtype\n",
        "a"
      ],
      "execution_count": 0,
      "outputs": [
        {
          "output_type": "execute_result",
          "data": {
            "text/plain": [
              "array([1, 2, 3])"
            ]
          },
          "metadata": {
            "tags": []
          },
          "execution_count": 8
        }
      ]
    },
    {
      "cell_type": "code",
      "metadata": {
        "id": "w_1y6R16i7SH",
        "colab_type": "code",
        "outputId": "e5eb5d1c-ae1c-4cca-ff0a-4f145a5e0b9e",
        "colab": {
          "base_uri": "https://localhost:8080/",
          "height": 34
        }
      },
      "source": [
        "a.dtype"
      ],
      "execution_count": 0,
      "outputs": [
        {
          "output_type": "execute_result",
          "data": {
            "text/plain": [
              "dtype('int64')"
            ]
          },
          "metadata": {
            "tags": []
          },
          "execution_count": 11
        }
      ]
    },
    {
      "cell_type": "markdown",
      "metadata": {
        "id": "VvgieTBeczFf",
        "colab_type": "text"
      },
      "source": [
        "**Auto create Numpy Array**"
      ]
    },
    {
      "cell_type": "code",
      "metadata": {
        "id": "nfrEYRdz_aAK",
        "colab_type": "code",
        "outputId": "a7d281b7-0fdd-4f49-c5af-f02546336808",
        "colab": {
          "base_uri": "https://localhost:8080/",
          "height": 85
        }
      },
      "source": [
        "a = np.zeros((3,4))\n",
        "#a.dtype\n",
        "a\n",
        "a[1] = 10\n",
        "a\n",
        "\n",
        "np.ones((3,3,4))\n",
        "\n",
        "np.arange(20)\n",
        "\n",
        "np.arange(1,20,2)\n",
        "\n",
        "#np.linspace(0,2,5)\n",
        "\n",
        "np.full((3,3),'a')\n",
        "\n",
        "np.eye(5)\n",
        "\n",
        "np.random.randn(10)\n",
        "\n",
        "np.empty((4,3))"
      ],
      "execution_count": 0,
      "outputs": [
        {
          "output_type": "execute_result",
          "data": {
            "text/plain": [
              "array([[ 0.,  0.,  0.],\n",
              "       [ 0., 10., 10.],\n",
              "       [10., 10.,  0.],\n",
              "       [ 0.,  0.,  0.]])"
            ]
          },
          "metadata": {
            "tags": []
          },
          "execution_count": 58
        }
      ]
    },
    {
      "cell_type": "code",
      "metadata": {
        "id": "b7PmUHiXCkD1",
        "colab_type": "code",
        "outputId": "9dd93b52-a27d-411c-ebca-413ac1e91529",
        "colab": {
          "base_uri": "https://localhost:8080/",
          "height": 51
        }
      },
      "source": [
        "a = np.array([[1,2,3], [4,5,6]])\n",
        "\n",
        "a.shape\n",
        "\n",
        "a.ndim\n",
        "\n",
        "len(a)\n",
        "\n",
        "a.size\n",
        "\n",
        "a.dtype\n",
        "\n",
        "b = a.astype(float)\n",
        "b\n",
        "\n"
      ],
      "execution_count": 0,
      "outputs": [
        {
          "output_type": "execute_result",
          "data": {
            "text/plain": [
              "array([[1., 2., 3.],\n",
              "       [4., 5., 6.]])"
            ]
          },
          "metadata": {
            "tags": []
          },
          "execution_count": 65
        }
      ]
    },
    {
      "cell_type": "markdown",
      "metadata": {
        "id": "7f_9Bpdlc5-I",
        "colab_type": "text"
      },
      "source": [
        "**How to get more information**"
      ]
    },
    {
      "cell_type": "code",
      "metadata": {
        "id": "7i_a0sWIDXTO",
        "colab_type": "code",
        "colab": {}
      },
      "source": [
        "np.info(np.arange)\n",
        "np.info(np.random)"
      ],
      "execution_count": 0,
      "outputs": []
    },
    {
      "cell_type": "code",
      "metadata": {
        "id": "SMrFICBvSxIx",
        "colab_type": "code",
        "outputId": "5ff7a57b-aae3-4be5-8aee-9aa90018c81e",
        "colab": {
          "base_uri": "https://localhost:8080/",
          "height": 34
        }
      },
      "source": [
        "import numpy as np\n",
        "\n",
        "a = np.array([1,2,3,4])\n",
        "\n",
        "a\n",
        "\n",
        "a = np.arange(10)\n",
        "a\n",
        "\n",
        "a.size\n",
        "a.ndim\n"
      ],
      "execution_count": 0,
      "outputs": [
        {
          "output_type": "execute_result",
          "data": {
            "text/plain": [
              "1"
            ]
          },
          "metadata": {
            "tags": []
          },
          "execution_count": 4
        }
      ]
    },
    {
      "cell_type": "markdown",
      "metadata": {
        "id": "a1KltxdrdAui",
        "colab_type": "text"
      },
      "source": [
        "**Arithmetic Operation**"
      ]
    },
    {
      "cell_type": "code",
      "metadata": {
        "id": "OW3DRIPQT18u",
        "colab_type": "code",
        "outputId": "3280aa01-7a2e-4bc4-e257-8b3a6d3d62c2",
        "colab": {
          "base_uri": "https://localhost:8080/",
          "height": 51
        }
      },
      "source": [
        "a = np.array([[1,2,3],[4,5,6]])\n",
        "a + 10\n",
        "\n",
        "a * a\n",
        "\n",
        "1/a\n",
        "\n",
        "a-a\n",
        "\n",
        "a[0,1] = 10\n",
        "a[0,0] = a[0,0] + 10\n",
        "a**2\n"
      ],
      "execution_count": 0,
      "outputs": [
        {
          "output_type": "execute_result",
          "data": {
            "text/plain": [
              "array([[121, 100,   9],\n",
              "       [ 16,  25,  36]])"
            ]
          },
          "metadata": {
            "tags": []
          },
          "execution_count": 17
        }
      ]
    },
    {
      "cell_type": "code",
      "metadata": {
        "id": "unIRXa9zU8ld",
        "colab_type": "code",
        "outputId": "3cec4dbd-68f9-4c07-f547-eae31caf4235",
        "colab": {
          "base_uri": "https://localhost:8080/",
          "height": 34
        }
      },
      "source": [
        "a = np.array([10,20,30])\n",
        "b = np.array([4,5,2])\n",
        "\n",
        "a + b\n",
        "a - b\n",
        "a * b\n",
        "a / b\n",
        "\n",
        "np.exp(a)\n",
        "np.sqrt(a)\n",
        "np.log(a)"
      ],
      "execution_count": 0,
      "outputs": [
        {
          "output_type": "execute_result",
          "data": {
            "text/plain": [
              "array([2.30258509, 2.99573227, 3.40119738])"
            ]
          },
          "metadata": {
            "tags": []
          },
          "execution_count": 26
        }
      ]
    },
    {
      "cell_type": "markdown",
      "metadata": {
        "id": "ttWGJs9jdTME",
        "colab_type": "text"
      },
      "source": [
        "**Comparision Operators**"
      ]
    },
    {
      "cell_type": "code",
      "metadata": {
        "id": "MUMb8SvnW_Aw",
        "colab_type": "code",
        "outputId": "b168246a-bc69-4473-a6c2-4bbce1496fd2",
        "colab": {
          "base_uri": "https://localhost:8080/",
          "height": 34
        }
      },
      "source": [
        "a = np.array([10,20,30])\n",
        "b = np.array([10,20,30])\n",
        "\n",
        "a > 15\n",
        "\n",
        "a == b\n",
        "a != b\n",
        "a >= b\n",
        "a <= b\n",
        "\n",
        "np.array_equal(a,b)"
      ],
      "execution_count": 0,
      "outputs": [
        {
          "output_type": "execute_result",
          "data": {
            "text/plain": [
              "True"
            ]
          },
          "metadata": {
            "tags": []
          },
          "execution_count": 33
        }
      ]
    },
    {
      "cell_type": "markdown",
      "metadata": {
        "id": "EmSzRI-0dbvO",
        "colab_type": "text"
      },
      "source": [
        "**Sort an Array**"
      ]
    },
    {
      "cell_type": "code",
      "metadata": {
        "id": "0ThF2MS9YMc8",
        "colab_type": "code",
        "outputId": "1f5fdc5d-baea-49b3-9826-16e1111b5863",
        "colab": {
          "base_uri": "https://localhost:8080/",
          "height": 34
        }
      },
      "source": [
        "a = [11,12,1,2,3,4,5,10]\n",
        "a.sort(reverse=True)\n",
        "a"
      ],
      "execution_count": 0,
      "outputs": [
        {
          "output_type": "execute_result",
          "data": {
            "text/plain": [
              "[12, 11, 10, 5, 4, 3, 2, 1]"
            ]
          },
          "metadata": {
            "tags": []
          },
          "execution_count": 37
        }
      ]
    },
    {
      "cell_type": "code",
      "metadata": {
        "id": "5zhArNnrYgXn",
        "colab_type": "code",
        "outputId": "09fe73ea-38df-4792-fc41-d4c2fbbcf20f",
        "colab": {
          "base_uri": "https://localhost:8080/",
          "height": 51
        }
      },
      "source": [
        "a = np.array([1,2,3,4,5,6,1,2,4,10,5,6])\n",
        "#a.sort()\n",
        "print(a)\n",
        "\n",
        "#a[2::3] = 300\n",
        "#a\n",
        "\n",
        "a[::-1].sort()\n",
        "a\n",
        "\n"
      ],
      "execution_count": 0,
      "outputs": [
        {
          "output_type": "stream",
          "text": [
            "[ 1  2  3  4  5  6  1  2  4 10  5  6]\n"
          ],
          "name": "stdout"
        },
        {
          "output_type": "execute_result",
          "data": {
            "text/plain": [
              "array([10,  6,  6,  5,  5,  4,  4,  3,  2,  2,  1,  1])"
            ]
          },
          "metadata": {
            "tags": []
          },
          "execution_count": 47
        }
      ]
    },
    {
      "cell_type": "markdown",
      "metadata": {
        "id": "1YsZ8ADudidG",
        "colab_type": "text"
      },
      "source": [
        "**Aggregation Functions**"
      ]
    },
    {
      "cell_type": "code",
      "metadata": {
        "id": "Xcf4F9syawju",
        "colab_type": "code",
        "outputId": "e23c3cbd-06f5-4511-d543-2130613867f5",
        "colab": {
          "base_uri": "https://localhost:8080/",
          "height": 34
        }
      },
      "source": [
        "a = np.arange(10)\n",
        "a\n",
        "\n",
        "sum(a)\n",
        "min(a)\n",
        "max(a)\n",
        "\n",
        "np.max(a)\n",
        "np.min(a)\n",
        "\n",
        "a.cumsum()\n",
        "\n",
        "a.mean()"
      ],
      "execution_count": 0,
      "outputs": [
        {
          "output_type": "execute_result",
          "data": {
            "text/plain": [
              "4.5"
            ]
          },
          "metadata": {
            "tags": []
          },
          "execution_count": 57
        }
      ]
    },
    {
      "cell_type": "code",
      "metadata": {
        "id": "0yHB0UpRbZzp",
        "colab_type": "code",
        "outputId": "faf5b5cd-9cb3-45bd-cc0e-643930e2c814",
        "colab": {
          "base_uri": "https://localhost:8080/",
          "height": 34
        }
      },
      "source": [
        "a = np.array([1,2,3,4])\n",
        "\n",
        "b = a\n",
        "\n",
        "a[1] = 400\n",
        "\n",
        "b[2] = 300\n",
        "\n",
        "a\n",
        "\n"
      ],
      "execution_count": 0,
      "outputs": [
        {
          "output_type": "execute_result",
          "data": {
            "text/plain": [
              "array([  1, 400, 300,   4])"
            ]
          },
          "metadata": {
            "tags": []
          },
          "execution_count": 59
        }
      ]
    },
    {
      "cell_type": "markdown",
      "metadata": {
        "id": "rlkrj9xJdqTo",
        "colab_type": "text"
      },
      "source": [
        "**Copy an Array**"
      ]
    },
    {
      "cell_type": "code",
      "metadata": {
        "id": "0xzy9kRccAqp",
        "colab_type": "code",
        "outputId": "fb389ea5-c8af-4191-ab14-6a70355f229f",
        "colab": {
          "base_uri": "https://localhost:8080/",
          "height": 34
        }
      },
      "source": [
        "a = np.array([1,2,3,4])\n",
        "\n",
        "b = a.copy()\n",
        "\n",
        "a[1] = 400\n",
        "\n",
        "b[2] = 300\n",
        "\n",
        "a"
      ],
      "execution_count": 0,
      "outputs": [
        {
          "output_type": "execute_result",
          "data": {
            "text/plain": [
              "array([  1, 400,   3,   4])"
            ]
          },
          "metadata": {
            "tags": []
          },
          "execution_count": 60
        }
      ]
    },
    {
      "cell_type": "markdown",
      "metadata": {
        "id": "iQCwIhiLdvy5",
        "colab_type": "text"
      },
      "source": [
        "**Slicing and Dicing**"
      ]
    },
    {
      "cell_type": "code",
      "metadata": {
        "id": "LujhfNUycaqG",
        "colab_type": "code",
        "outputId": "dcc31635-0f94-4fc3-df2c-7e63a5b3b323",
        "colab": {
          "base_uri": "https://localhost:8080/",
          "height": 34
        }
      },
      "source": [
        "a = np.array([[1,2,3],[4,5,6]])\n",
        "a\n",
        "\n",
        "a[0]\n",
        "a[0][1]\n",
        "a[0,1]\n",
        "\n",
        "a[0,1] = 100\n",
        "a\n",
        "\n",
        "a[1] = 10\n",
        "a\n",
        "\n",
        "a[0,1:]\n",
        "\n",
        "b = a[1]\n",
        "b\n",
        "\n",
        "a[-1]\n"
      ],
      "execution_count": 0,
      "outputs": [
        {
          "output_type": "execute_result",
          "data": {
            "text/plain": [
              "array([10, 10, 10])"
            ]
          },
          "metadata": {
            "tags": []
          },
          "execution_count": 71
        }
      ]
    },
    {
      "cell_type": "markdown",
      "metadata": {
        "id": "kUVJeoDfd2oF",
        "colab_type": "text"
      },
      "source": [
        "**Data Transformation**"
      ]
    },
    {
      "cell_type": "code",
      "metadata": {
        "id": "xuNs3X4xdd0X",
        "colab_type": "code",
        "outputId": "88b200cd-82db-48e2-e7a8-66af546110fa",
        "colab": {
          "base_uri": "https://localhost:8080/",
          "height": 102
        }
      },
      "source": [
        "a = np.array([[1,2,3],[4,5,6]])\n",
        "b = np.transpose(a)\n",
        "print(a)\n",
        "c = a.T\n",
        "c"
      ],
      "execution_count": 0,
      "outputs": [
        {
          "output_type": "stream",
          "text": [
            "[[1 2 3]\n",
            " [4 5 6]]\n"
          ],
          "name": "stdout"
        },
        {
          "output_type": "execute_result",
          "data": {
            "text/plain": [
              "array([[1, 4],\n",
              "       [2, 5],\n",
              "       [3, 6]])"
            ]
          },
          "metadata": {
            "tags": []
          },
          "execution_count": 76
        }
      ]
    },
    {
      "cell_type": "code",
      "metadata": {
        "id": "AoWNmA1seBd6",
        "colab_type": "code",
        "outputId": "4b5ee0b7-1ef1-40c5-9738-c56eed8d4283",
        "colab": {
          "base_uri": "https://localhost:8080/",
          "height": 119
        }
      },
      "source": [
        "a = np.arange(12).reshape(4,3) + 1\n",
        "a\n",
        "#b = a.reshape(4,3)\n",
        "#b\n",
        "b = a.reshape(6,2)\n",
        "b\n",
        "\n",
        "c = a.reshape(-1,1)\n",
        "c\n",
        "\n",
        "c = a.reshape(12,1)\n",
        "c\n",
        "\n",
        "print(a)\n",
        "d = np.resize(a,(2,2))\n",
        "d\n"
      ],
      "execution_count": 0,
      "outputs": [
        {
          "output_type": "stream",
          "text": [
            "[[ 1  2  3]\n",
            " [ 4  5  6]\n",
            " [ 7  8  9]\n",
            " [10 11 12]]\n"
          ],
          "name": "stdout"
        },
        {
          "output_type": "execute_result",
          "data": {
            "text/plain": [
              "array([[1, 2],\n",
              "       [3, 4]])"
            ]
          },
          "metadata": {
            "tags": []
          },
          "execution_count": 92
        }
      ]
    }
  ]
}